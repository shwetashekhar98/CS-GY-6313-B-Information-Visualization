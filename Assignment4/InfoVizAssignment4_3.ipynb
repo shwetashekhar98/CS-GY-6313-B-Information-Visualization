{
  "nbformat": 4,
  "nbformat_minor": 0,
  "metadata": {
    "colab": {
      "provenance": []
    },
    "kernelspec": {
      "name": "python3",
      "display_name": "Python 3"
    },
    "language_info": {
      "name": "python"
    }
  },
  "cells": [
    {
      "cell_type": "code",
      "execution_count": null,
      "metadata": {
        "colab": {
          "base_uri": "https://localhost:8080/"
        },
        "id": "wTbU4jmfuq-H",
        "outputId": "fa37ba95-b7ec-4af8-8ef5-92ce5bac6406"
      },
      "outputs": [
        {
          "output_type": "stream",
          "name": "stdout",
          "text": [
            "Collecting wbdata\n",
            "  Downloading wbdata-1.0.0-py3-none-any.whl.metadata (2.6 kB)\n",
            "Requirement already satisfied: pandas in /usr/local/lib/python3.10/dist-packages (2.2.2)\n",
            "Collecting appdirs<2.0,>=1.4 (from wbdata)\n",
            "  Downloading appdirs-1.4.4-py2.py3-none-any.whl.metadata (9.0 kB)\n",
            "Collecting backoff<3.0.0,>=2.2.1 (from wbdata)\n",
            "  Downloading backoff-2.2.1-py3-none-any.whl.metadata (14 kB)\n",
            "Requirement already satisfied: cachetools<6.0.0,>=5.3.2 in /usr/local/lib/python3.10/dist-packages (from wbdata) (5.5.0)\n",
            "Collecting dateparser<2.0.0,>=1.2.0 (from wbdata)\n",
            "  Downloading dateparser-1.2.0-py2.py3-none-any.whl.metadata (28 kB)\n",
            "Collecting decorator<6.0.0,>=5.1.1 (from wbdata)\n",
            "  Downloading decorator-5.1.1-py3-none-any.whl.metadata (4.0 kB)\n",
            "Requirement already satisfied: requests<3.0,>=2.0 in /usr/local/lib/python3.10/dist-packages (from wbdata) (2.32.3)\n",
            "Collecting shelved-cache<0.4.0,>=0.3.1 (from wbdata)\n",
            "  Downloading shelved_cache-0.3.1-py3-none-any.whl.metadata (4.7 kB)\n",
            "Collecting tabulate<0.9.0,>=0.8.5 (from wbdata)\n",
            "  Downloading tabulate-0.8.10-py3-none-any.whl.metadata (25 kB)\n",
            "Requirement already satisfied: numpy>=1.22.4 in /usr/local/lib/python3.10/dist-packages (from pandas) (1.26.4)\n",
            "Requirement already satisfied: python-dateutil>=2.8.2 in /usr/local/lib/python3.10/dist-packages (from pandas) (2.8.2)\n",
            "Requirement already satisfied: pytz>=2020.1 in /usr/local/lib/python3.10/dist-packages (from pandas) (2024.2)\n",
            "Requirement already satisfied: tzdata>=2022.7 in /usr/local/lib/python3.10/dist-packages (from pandas) (2024.2)\n",
            "Requirement already satisfied: regex!=2019.02.19,!=2021.8.27 in /usr/local/lib/python3.10/dist-packages (from dateparser<2.0.0,>=1.2.0->wbdata) (2024.9.11)\n",
            "Requirement already satisfied: tzlocal in /usr/local/lib/python3.10/dist-packages (from dateparser<2.0.0,>=1.2.0->wbdata) (5.2)\n",
            "Requirement already satisfied: six>=1.5 in /usr/local/lib/python3.10/dist-packages (from python-dateutil>=2.8.2->pandas) (1.16.0)\n",
            "Requirement already satisfied: charset-normalizer<4,>=2 in /usr/local/lib/python3.10/dist-packages (from requests<3.0,>=2.0->wbdata) (3.4.0)\n",
            "Requirement already satisfied: idna<4,>=2.5 in /usr/local/lib/python3.10/dist-packages (from requests<3.0,>=2.0->wbdata) (3.10)\n",
            "Requirement already satisfied: urllib3<3,>=1.21.1 in /usr/local/lib/python3.10/dist-packages (from requests<3.0,>=2.0->wbdata) (2.2.3)\n",
            "Requirement already satisfied: certifi>=2017.4.17 in /usr/local/lib/python3.10/dist-packages (from requests<3.0,>=2.0->wbdata) (2024.8.30)\n",
            "Downloading wbdata-1.0.0-py3-none-any.whl (18 kB)\n",
            "Downloading appdirs-1.4.4-py2.py3-none-any.whl (9.6 kB)\n",
            "Downloading backoff-2.2.1-py3-none-any.whl (15 kB)\n",
            "Downloading dateparser-1.2.0-py2.py3-none-any.whl (294 kB)\n",
            "\u001b[2K   \u001b[90m━━━━━━━━━━━━━━━━━━━━━━━━━━━━━━━━━━━━━━━━\u001b[0m \u001b[32m295.0/295.0 kB\u001b[0m \u001b[31m11.7 MB/s\u001b[0m eta \u001b[36m0:00:00\u001b[0m\n",
            "\u001b[?25hDownloading decorator-5.1.1-py3-none-any.whl (9.1 kB)\n",
            "Downloading shelved_cache-0.3.1-py3-none-any.whl (7.8 kB)\n",
            "Downloading tabulate-0.8.10-py3-none-any.whl (29 kB)\n",
            "Installing collected packages: appdirs, tabulate, shelved-cache, decorator, backoff, dateparser, wbdata\n",
            "  Attempting uninstall: tabulate\n",
            "    Found existing installation: tabulate 0.9.0\n",
            "    Uninstalling tabulate-0.9.0:\n",
            "      Successfully uninstalled tabulate-0.9.0\n",
            "  Attempting uninstall: decorator\n",
            "    Found existing installation: decorator 4.4.2\n",
            "    Uninstalling decorator-4.4.2:\n",
            "      Successfully uninstalled decorator-4.4.2\n",
            "\u001b[31mERROR: pip's dependency resolver does not currently take into account all the packages that are installed. This behaviour is the source of the following dependency conflicts.\n",
            "ipython 7.34.0 requires jedi>=0.16, which is not installed.\n",
            "bigframes 1.27.0 requires tabulate>=0.9, but you have tabulate 0.8.10 which is incompatible.\n",
            "moviepy 1.0.3 requires decorator<5.0,>=4.0.2, but you have decorator 5.1.1 which is incompatible.\u001b[0m\u001b[31m\n",
            "\u001b[0mSuccessfully installed appdirs-1.4.4 backoff-2.2.1 dateparser-1.2.0 decorator-5.1.1 shelved-cache-0.3.1 tabulate-0.8.10 wbdata-1.0.0\n"
          ]
        },
        {
          "output_type": "display_data",
          "data": {
            "application/vnd.colab-display-data+json": {
              "pip_warning": {
                "packages": [
                  "decorator"
                ]
              },
              "id": "0f561fc116f54131b66e20d4b8ab2982"
            }
          },
          "metadata": {}
        },
        {
          "output_type": "stream",
          "name": "stdout",
          "text": [
            "Requirement already satisfied: wbdata in /usr/local/lib/python3.10/dist-packages (1.0.0)\n",
            "Requirement already satisfied: pandas in /usr/local/lib/python3.10/dist-packages (2.2.2)\n",
            "Collecting dash\n",
            "  Downloading dash-2.18.2-py3-none-any.whl.metadata (10 kB)\n",
            "Requirement already satisfied: plotly in /usr/local/lib/python3.10/dist-packages (5.24.1)\n",
            "Requirement already satisfied: appdirs<2.0,>=1.4 in /usr/local/lib/python3.10/dist-packages (from wbdata) (1.4.4)\n",
            "Requirement already satisfied: backoff<3.0.0,>=2.2.1 in /usr/local/lib/python3.10/dist-packages (from wbdata) (2.2.1)\n",
            "Requirement already satisfied: cachetools<6.0.0,>=5.3.2 in /usr/local/lib/python3.10/dist-packages (from wbdata) (5.5.0)\n",
            "Requirement already satisfied: dateparser<2.0.0,>=1.2.0 in /usr/local/lib/python3.10/dist-packages (from wbdata) (1.2.0)\n",
            "Requirement already satisfied: decorator<6.0.0,>=5.1.1 in /usr/local/lib/python3.10/dist-packages (from wbdata) (5.1.1)\n",
            "Requirement already satisfied: requests<3.0,>=2.0 in /usr/local/lib/python3.10/dist-packages (from wbdata) (2.32.3)\n",
            "Requirement already satisfied: shelved-cache<0.4.0,>=0.3.1 in /usr/local/lib/python3.10/dist-packages (from wbdata) (0.3.1)\n",
            "Requirement already satisfied: tabulate<0.9.0,>=0.8.5 in /usr/local/lib/python3.10/dist-packages (from wbdata) (0.8.10)\n",
            "Requirement already satisfied: numpy>=1.22.4 in /usr/local/lib/python3.10/dist-packages (from pandas) (1.26.4)\n",
            "Requirement already satisfied: python-dateutil>=2.8.2 in /usr/local/lib/python3.10/dist-packages (from pandas) (2.8.2)\n",
            "Requirement already satisfied: pytz>=2020.1 in /usr/local/lib/python3.10/dist-packages (from pandas) (2024.2)\n",
            "Requirement already satisfied: tzdata>=2022.7 in /usr/local/lib/python3.10/dist-packages (from pandas) (2024.2)\n",
            "Requirement already satisfied: Flask<3.1,>=1.0.4 in /usr/local/lib/python3.10/dist-packages (from dash) (3.0.3)\n",
            "Collecting Werkzeug<3.1 (from dash)\n",
            "  Downloading werkzeug-3.0.6-py3-none-any.whl.metadata (3.7 kB)\n",
            "Collecting dash-html-components==2.0.0 (from dash)\n",
            "  Downloading dash_html_components-2.0.0-py3-none-any.whl.metadata (3.8 kB)\n",
            "Collecting dash-core-components==2.0.0 (from dash)\n",
            "  Downloading dash_core_components-2.0.0-py3-none-any.whl.metadata (2.9 kB)\n",
            "Collecting dash-table==5.0.0 (from dash)\n",
            "  Downloading dash_table-5.0.0-py3-none-any.whl.metadata (2.4 kB)\n",
            "Requirement already satisfied: importlib-metadata in /usr/local/lib/python3.10/dist-packages (from dash) (8.5.0)\n",
            "Requirement already satisfied: typing-extensions>=4.1.1 in /usr/local/lib/python3.10/dist-packages (from dash) (4.12.2)\n",
            "Collecting retrying (from dash)\n",
            "  Downloading retrying-1.3.4-py3-none-any.whl.metadata (6.9 kB)\n",
            "Requirement already satisfied: nest-asyncio in /usr/local/lib/python3.10/dist-packages (from dash) (1.6.0)\n",
            "Requirement already satisfied: setuptools in /usr/local/lib/python3.10/dist-packages (from dash) (75.1.0)\n",
            "Requirement already satisfied: tenacity>=6.2.0 in /usr/local/lib/python3.10/dist-packages (from plotly) (9.0.0)\n",
            "Requirement already satisfied: packaging in /usr/local/lib/python3.10/dist-packages (from plotly) (24.2)\n",
            "Requirement already satisfied: regex!=2019.02.19,!=2021.8.27 in /usr/local/lib/python3.10/dist-packages (from dateparser<2.0.0,>=1.2.0->wbdata) (2024.9.11)\n",
            "Requirement already satisfied: tzlocal in /usr/local/lib/python3.10/dist-packages (from dateparser<2.0.0,>=1.2.0->wbdata) (5.2)\n",
            "Requirement already satisfied: Jinja2>=3.1.2 in /usr/local/lib/python3.10/dist-packages (from Flask<3.1,>=1.0.4->dash) (3.1.4)\n",
            "Requirement already satisfied: itsdangerous>=2.1.2 in /usr/local/lib/python3.10/dist-packages (from Flask<3.1,>=1.0.4->dash) (2.2.0)\n",
            "Requirement already satisfied: click>=8.1.3 in /usr/local/lib/python3.10/dist-packages (from Flask<3.1,>=1.0.4->dash) (8.1.7)\n",
            "Requirement already satisfied: blinker>=1.6.2 in /usr/local/lib/python3.10/dist-packages (from Flask<3.1,>=1.0.4->dash) (1.9.0)\n",
            "Requirement already satisfied: six>=1.5 in /usr/local/lib/python3.10/dist-packages (from python-dateutil>=2.8.2->pandas) (1.16.0)\n",
            "Requirement already satisfied: charset-normalizer<4,>=2 in /usr/local/lib/python3.10/dist-packages (from requests<3.0,>=2.0->wbdata) (3.4.0)\n",
            "Requirement already satisfied: idna<4,>=2.5 in /usr/local/lib/python3.10/dist-packages (from requests<3.0,>=2.0->wbdata) (3.10)\n",
            "Requirement already satisfied: urllib3<3,>=1.21.1 in /usr/local/lib/python3.10/dist-packages (from requests<3.0,>=2.0->wbdata) (2.2.3)\n",
            "Requirement already satisfied: certifi>=2017.4.17 in /usr/local/lib/python3.10/dist-packages (from requests<3.0,>=2.0->wbdata) (2024.8.30)\n",
            "Requirement already satisfied: MarkupSafe>=2.1.1 in /usr/local/lib/python3.10/dist-packages (from Werkzeug<3.1->dash) (3.0.2)\n",
            "Requirement already satisfied: zipp>=3.20 in /usr/local/lib/python3.10/dist-packages (from importlib-metadata->dash) (3.21.0)\n",
            "Downloading dash-2.18.2-py3-none-any.whl (7.8 MB)\n",
            "\u001b[2K   \u001b[90m━━━━━━━━━━━━━━━━━━━━━━━━━━━━━━━━━━━━━━━━\u001b[0m \u001b[32m7.8/7.8 MB\u001b[0m \u001b[31m60.1 MB/s\u001b[0m eta \u001b[36m0:00:00\u001b[0m\n",
            "\u001b[?25hDownloading dash_core_components-2.0.0-py3-none-any.whl (3.8 kB)\n",
            "Downloading dash_html_components-2.0.0-py3-none-any.whl (4.1 kB)\n",
            "Downloading dash_table-5.0.0-py3-none-any.whl (3.9 kB)\n",
            "Downloading werkzeug-3.0.6-py3-none-any.whl (227 kB)\n",
            "\u001b[2K   \u001b[90m━━━━━━━━━━━━━━━━━━━━━━━━━━━━━━━━━━━━━━━━\u001b[0m \u001b[32m228.0/228.0 kB\u001b[0m \u001b[31m21.0 MB/s\u001b[0m eta \u001b[36m0:00:00\u001b[0m\n",
            "\u001b[?25hDownloading retrying-1.3.4-py3-none-any.whl (11 kB)\n",
            "Installing collected packages: dash-table, dash-html-components, dash-core-components, Werkzeug, retrying, dash\n",
            "  Attempting uninstall: Werkzeug\n",
            "    Found existing installation: Werkzeug 3.1.3\n",
            "    Uninstalling Werkzeug-3.1.3:\n",
            "      Successfully uninstalled Werkzeug-3.1.3\n",
            "Successfully installed Werkzeug-3.0.6 dash-2.18.2 dash-core-components-2.0.0 dash-html-components-2.0.0 dash-table-5.0.0 retrying-1.3.4\n"
          ]
        }
      ],
      "source": [
        "!pip install wbdata pandas\n",
        "# Install necessary packages\n",
        "!pip install wbdata pandas dash plotly"
      ]
    },
    {
      "cell_type": "markdown",
      "source": [
        "Pulling data from the World Bank API. The key indicators include:\n",
        "\n",
        "1. **Gini Index** (Income Inequality): Measures income inequality within countries.\n",
        "2. **Health Expenditure per Capita**: Indicates health-related spending.\n",
        "3. **Literacy Rate**: Shows the percentage of literate individuals in the population.\n",
        "4. **GDP per Capita**: A measure of a country's economic performance.\n",
        "\n",
        "Based on the indicators and the assignment's focus on storytelling and advocacy, here are potential questions:"
      ],
      "metadata": {
        "id": "MHR2EEsKu5Yu"
      }
    },
    {
      "cell_type": "code",
      "source": [
        "import wbdata\n",
        "import pandas as pd\n",
        "import datetime\n",
        "\n",
        "start_date = datetime.datetime(1960, 1, 1)\n",
        "end_date = datetime.datetime(2024, 12, 31)\n",
        "\n",
        "indicators = {\n",
        "    \"SI.POV.GINI\": \"Gini Index\",               # Gini Index (Income Inequality)\n",
        "    \"SH.XPD.CHEX.PC.CD\": \"Health Expenditure\", # Health Expenditure per Capita\n",
        "    \"SE.ADT.LITR.ZS\": \"Literacy Rate\",         # Literacy Rate\n",
        "    \"NY.GDP.PCAP.CD\": \"GDP per Capita\"         # GDP per Capita\n",
        "}\n",
        "\n",
        "data = wbdata.get_dataframe(indicators, date=(start_date, end_date))\n",
        "data.reset_index(inplace=True)\n",
        "\n",
        "print(data.count())\n"
      ],
      "metadata": {
        "colab": {
          "base_uri": "https://localhost:8080/"
        },
        "id": "ogqvhORyuu7G",
        "outputId": "ccfb687d-0092-43eb-9e63-3bc988457ba5"
      },
      "execution_count": null,
      "outputs": [
        {
          "output_type": "stream",
          "name": "stdout",
          "text": [
            "country               17024\n",
            "date                  17024\n",
            "Gini Index             2111\n",
            "Health Expenditure     5166\n",
            "Literacy Rate          2852\n",
            "GDP per Capita        13979\n",
            "dtype: int64\n"
          ]
        }
      ]
    },
    {
      "cell_type": "code",
      "source": [
        "data_cleaned = data.dropna()\n",
        "\n",
        "data_filled = data.fillna(method='ffill')\n",
        "\n",
        "data_cleaned.to_csv(\"world_bank_data_cleaned.csv\", index=False)\n",
        "print(\"Data cleaned and saved successfully.\")\n"
      ],
      "metadata": {
        "colab": {
          "base_uri": "https://localhost:8080/"
        },
        "id": "MI3-LodHuu9h",
        "outputId": "3600d725-3213-47af-be78-64b9acb0b7ac"
      },
      "execution_count": null,
      "outputs": [
        {
          "output_type": "stream",
          "name": "stdout",
          "text": [
            "Data cleaned and saved successfully.\n"
          ]
        },
        {
          "output_type": "stream",
          "name": "stderr",
          "text": [
            "<ipython-input-4-a2fc1d451e6f>:3: FutureWarning: DataFrame.fillna with 'method' is deprecated and will raise in a future version. Use obj.ffill() or obj.bfill() instead.\n",
            "  data_filled = data.fillna(method='ffill')\n"
          ]
        }
      ]
    },
    {
      "cell_type": "code",
      "source": [
        "countries_of_interest = [\"United States\", \"India\", \"China\"]\n",
        "data_filtered = data_cleaned[data_cleaned['country'].isin(countries_of_interest)]\n",
        "\n",
        "print(data_filtered.head())"
      ],
      "metadata": {
        "colab": {
          "base_uri": "https://localhost:8080/"
        },
        "id": "Jk26pZJquu_3",
        "outputId": "18b3ce16-d671-40c5-d99a-a6f37ad4a7db"
      },
      "execution_count": null,
      "outputs": [
        {
          "output_type": "stream",
          "name": "stdout",
          "text": [
            "     country  date  Gini Index  Health Expenditure  Literacy Rate  \\\n",
            "5763   China  2020        37.1          583.432190           97.0   \n",
            "5773   China  2010        43.7          189.343704           95.0   \n",
            "8844   India  2011        35.4           48.000000           69.0   \n",
            "\n",
            "      GDP per Capita  \n",
            "5763    10408.719554  \n",
            "5773     4550.473944  \n",
            "8844     1449.603301  \n"
          ]
        }
      ]
    },
    {
      "cell_type": "code",
      "source": [
        "# Install dependencies if not already installed\n",
        "# pip install wbdata pandas plotly dash\n",
        "\n",
        "import wbdata\n",
        "import pandas as pd\n",
        "import plotly.express as px\n",
        "from datetime import datetime\n",
        "from dash import Dash, dcc, html, Input, Output\n",
        "\n",
        "# Fetch data from World Bank\n",
        "indicators = {\n",
        "    \"SI.POV.GINI\": \"Gini_Index\",        # Gini Index for income inequality\n",
        "    \"SH.XPD.CHEX.PC.CD\": \"Health_Expenditure\"  # Current health expenditure per capita (USD)\n",
        "}\n",
        "\n",
        "# Set date range for data\n",
        "start_date = datetime(1990, 1, 1)\n",
        "end_date = datetime(2020, 12, 31)\n",
        "\n",
        "# Retrieve data\n",
        "data = wbdata.get_dataframe(indicators, date=(start_date, end_date))\n",
        "data = data.reset_index()\n",
        "data['Gini_Index'] = pd.to_numeric(data['Gini_Index'], errors='coerce')\n",
        "data['Health_Expenditure'] = pd.to_numeric(data['Health_Expenditure'], errors='coerce')\n",
        "data = data.dropna()\n",
        "data = data.groupby('country')[['Gini_Index', 'Health_Expenditure']].mean().reset_index()\n",
        "\n",
        "# Create Dash app\n",
        "app = Dash(__name__)\n",
        "\n",
        "# Layout of the app\n",
        "app.layout = html.Div([\n",
        "    html.H1(\"Interactive Treemap: Income Inequality and Health Metrics\", style={'text-align': 'center'}),\n",
        "\n",
        "    html.Div([\n",
        "        html.Label(\"Filter by Gini Index Range:\", style={'font-weight': 'bold'}),\n",
        "        dcc.RangeSlider(\n",
        "            id='gini-slider',\n",
        "            min=data['Gini_Index'].min(),\n",
        "            max=data['Gini_Index'].max(),\n",
        "            step=1,\n",
        "            marks={int(i): str(int(i)) for i in range(int(data['Gini_Index'].min()), int(data['Gini_Index'].max()) + 1, 5)},\n",
        "            value=[data['Gini_Index'].min(), data['Gini_Index'].max()],\n",
        "        )\n",
        "    ], style={'width': '80%', 'margin': 'auto'}),\n",
        "\n",
        "    html.Div([\n",
        "        html.Label(\"Select Number of Countries to Display:\", style={'font-weight': 'bold'}),\n",
        "        dcc.Slider(\n",
        "            id='country-slider',\n",
        "            min=5,\n",
        "            max=50,\n",
        "            step=5,\n",
        "            marks={i: str(i) for i in range(5, 55, 5)},\n",
        "            value=20,  # Default value\n",
        "        )\n",
        "    ], style={'width': '50%', 'margin': 'auto', 'margin-top': '20px'}),\n",
        "\n",
        "    dcc.Graph(id='treemap', style={'margin-top': '20px'})\n",
        "])\n",
        "\n",
        "# Callback to update treemap based on filters\n",
        "@app.callback(\n",
        "    Output('treemap', 'figure'),\n",
        "    [Input('gini-slider', 'value'), Input('country-slider', 'value')]\n",
        ")\n",
        "def update_treemap(gini_range, top_n):\n",
        "    # Filter data based on Gini Index range\n",
        "    filtered_data = data[(data['Gini_Index'] >= gini_range[0]) & (data['Gini_Index'] <= gini_range[1])]\n",
        "\n",
        "    # Select top N countries with highest Gini Index\n",
        "    filtered_data = filtered_data.nlargest(top_n, 'Gini_Index')\n",
        "\n",
        "    # Create the treemap\n",
        "    fig = px.treemap(\n",
        "        filtered_data,\n",
        "        path=['country'],\n",
        "        values='Gini_Index',\n",
        "        color='Health_Expenditure',\n",
        "        color_continuous_scale='RdYlGn',  # Red for low health expenditure, green for high\n",
        "        title=f\"Interactive Treemap: Top {top_n} Countries by Income Inequality and Health Metrics\"\n",
        "    )\n",
        "\n",
        "    # Customize hover data\n",
        "    fig.update_traces(\n",
        "        hovertemplate=\"<b>%{label}</b><br>Income Inequality (Gini Index): %{value}<br>Health Expenditure: %{color:.2f} USD\"\n",
        "    )\n",
        "\n",
        "    return fig\n",
        "\n",
        "# Run the app\n",
        "if __name__ == '__main__':\n",
        "    app.run_server(debug=True, use_reloader=False)\n"
      ],
      "metadata": {
        "colab": {
          "base_uri": "https://localhost:8080/",
          "height": 671
        },
        "id": "QXrQQRZ9uvB9",
        "outputId": "c780a5a3-3c8c-430c-cf9d-bb0a26f21642"
      },
      "execution_count": 7,
      "outputs": [
        {
          "output_type": "display_data",
          "data": {
            "text/plain": [
              "<IPython.core.display.Javascript object>"
            ],
            "application/javascript": [
              "(async (port, path, width, height, cache, element) => {\n",
              "    if (!google.colab.kernel.accessAllowed && !cache) {\n",
              "      return;\n",
              "    }\n",
              "    element.appendChild(document.createTextNode(''));\n",
              "    const url = await google.colab.kernel.proxyPort(port, {cache});\n",
              "    const iframe = document.createElement('iframe');\n",
              "    iframe.src = new URL(path, url).toString();\n",
              "    iframe.height = height;\n",
              "    iframe.width = width;\n",
              "    iframe.style.border = 0;\n",
              "    iframe.allow = [\n",
              "        'accelerometer',\n",
              "        'autoplay',\n",
              "        'camera',\n",
              "        'clipboard-read',\n",
              "        'clipboard-write',\n",
              "        'gyroscope',\n",
              "        'magnetometer',\n",
              "        'microphone',\n",
              "        'serial',\n",
              "        'usb',\n",
              "        'xr-spatial-tracking',\n",
              "    ].join('; ');\n",
              "    element.appendChild(iframe);\n",
              "  })(8050, \"/\", \"100%\", 650, false, window.element)"
            ]
          },
          "metadata": {}
        }
      ]
    },
    {
      "cell_type": "code",
      "source": [],
      "metadata": {
        "id": "OUIJlsAuuvED"
      },
      "execution_count": null,
      "outputs": []
    },
    {
      "cell_type": "code",
      "source": [],
      "metadata": {
        "id": "-cObE2PXuvF7"
      },
      "execution_count": null,
      "outputs": []
    },
    {
      "cell_type": "code",
      "source": [],
      "metadata": {
        "id": "2AHy2VHtuvH6"
      },
      "execution_count": null,
      "outputs": []
    },
    {
      "cell_type": "code",
      "source": [],
      "metadata": {
        "id": "K83YANKKuvJ_"
      },
      "execution_count": null,
      "outputs": []
    },
    {
      "cell_type": "code",
      "source": [],
      "metadata": {
        "id": "MrCbyWJ3uvMN"
      },
      "execution_count": null,
      "outputs": []
    }
  ]
}